{
 "cells": [
  {
   "cell_type": "code",
   "execution_count": 3,
   "id": "77771132",
   "metadata": {},
   "outputs": [
    {
     "name": "stdout",
     "output_type": "stream",
     "text": [
      "Random Pauli matrices:\n",
      " [PauliOp(Pauli('Y'), coeff=1.0) PauliOp(Pauli('Y'), coeff=1.0)\n",
      " PauliOp(Pauli('Z'), coeff=1.0) PauliOp(Pauli('Z'), coeff=1.0)\n",
      " PauliOp(Pauli('X'), coeff=1.0) PauliOp(Pauli('Z'), coeff=1.0)\n",
      " PauliOp(Pauli('I'), coeff=1.0) PauliOp(Pauli('Y'), coeff=1.0)]\n",
      "Singular values:\n",
      " [1. 1. 1. 1. 1. 1. 1. 1. 1. 1. 1. 1. 1. 1. 1. 1. 1. 1. 1. 1. 1. 1. 1. 1.\n",
      " 1. 1. 1. 1. 1. 1. 1. 1. 1. 1. 1. 1. 1. 1. 1. 1. 1. 1. 1. 1. 1. 1. 1. 1.\n",
      " 1. 1. 1. 1. 1. 1. 1. 1. 1. 1. 1. 1. 1. 1. 1. 1. 1. 1. 1. 1. 1. 1. 1. 1.\n",
      " 1. 1. 1. 1. 1. 1. 1. 1. 1. 1. 1. 1. 1. 1. 1. 1. 1. 1. 1. 1. 1. 1. 1. 1.\n",
      " 1. 1. 1. 1. 1. 1. 1. 1. 1. 1. 1. 1. 1. 1. 1. 1. 1. 1. 1. 1. 1. 1. 1. 1.\n",
      " 1. 1. 1. 1. 1. 1. 1. 1. 1. 1. 1. 1. 1. 1. 1. 1. 1. 1. 1. 1. 1. 1. 1. 1.\n",
      " 1. 1. 1. 1. 1. 1. 1. 1. 1. 1. 1. 1. 1. 1. 1. 1. 1. 1. 1. 1. 1. 1. 1. 1.\n",
      " 1. 1. 1. 1. 1. 1. 1. 1. 1. 1. 1. 1. 1. 1. 1. 1. 1. 1. 1. 1. 1. 1. 1. 1.\n",
      " 1. 1. 1. 1. 1. 1. 1. 1. 1. 1. 1. 1. 1. 1. 1. 1. 1. 1. 1. 1. 1. 1. 1. 1.\n",
      " 1. 1. 1. 1. 1. 1. 1. 1. 1. 1. 1. 1. 1. 1. 1. 1. 1. 1. 1. 1. 1. 1. 1. 1.\n",
      " 1. 1. 1. 1. 1. 1. 1. 1. 1. 1. 1. 1. 1. 1. 1. 1.]\n",
      "Counter({1.0: 256})\n",
      "Trace norm: 256.0\n"
     ]
    }
   ],
   "source": [
    "'''\n",
    "Establishing trace norm for random Pauli operators of dimension n.\n",
    "The trace norm for any Pauli oeprator of dimension n is 2^n. \n",
    "'''\n",
    "\n",
    "from scipy.linalg import svdvals\n",
    "import numpy as np\n",
    "from qiskit.opflow import I, X, Y, Z\n",
    "from collections import Counter\n",
    "\n",
    "paulis = [I, X, Y, Z]\n",
    "n = 8\n",
    "pauli_op = np.random.choice(paulis, n)\n",
    "print('Random Pauli matrices:\\n', pauli_op)\n",
    "\n",
    "pauli_tensor = pauli_op[0].to_matrix()\n",
    "\n",
    "for pauli in pauli_op[1:]:\n",
    "    pauli_tensor = np.kron(pauli_tensor, pauli.to_matrix())\n",
    "\n",
    "sing_vals = svdvals(pauli_tensor, overwrite_a=False, check_finite=True)\n",
    "print('Singular values:\\n', sing_vals)\n",
    "\n",
    "\n",
    "print(Counter(sing_vals))\n",
    "\n",
    "trace_norm = sum(sing_vals)\n",
    "print('Trace norm:', trace_norm)"
   ]
  },
  {
   "cell_type": "code",
   "execution_count": null,
   "id": "c54639bd",
   "metadata": {},
   "outputs": [],
   "source": []
  }
 ],
 "metadata": {
  "kernelspec": {
   "display_name": "Python 3 (ipykernel)",
   "language": "python",
   "name": "python3"
  },
  "language_info": {
   "codemirror_mode": {
    "name": "ipython",
    "version": 3
   },
   "file_extension": ".py",
   "mimetype": "text/x-python",
   "name": "python",
   "nbconvert_exporter": "python",
   "pygments_lexer": "ipython3",
   "version": "3.8.10"
  }
 },
 "nbformat": 4,
 "nbformat_minor": 5
}
