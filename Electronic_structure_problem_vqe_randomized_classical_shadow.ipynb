{
 "cells": [
  {
   "cell_type": "code",
   "execution_count": 1,
   "id": "3061cde8",
   "metadata": {},
   "outputs": [],
   "source": [
    "# Installation of the requirements\n",
    "#!python -m pip install -r requirements.txt"
   ]
  },
  {
   "cell_type": "code",
   "execution_count": 2,
   "id": "bf3f9f51",
   "metadata": {},
   "outputs": [
    {
     "name": "stderr",
     "output_type": "stream",
     "text": [
      "/home/renata/.local/lib/python3.8/site-packages/pyscf/lib/misc.py:46: H5pyDeprecationWarning: Using default_file_mode other than 'r' is deprecated. Pass the mode to h5py.File() instead.\n",
      "  h5py.get_config().default_file_mode = 'a'\n"
     ]
    },
    {
     "name": "stdout",
     "output_type": "stream",
     "text": [
      "-0.8105479805373234 * IIII\n",
      "+ 0.1721839326191557 * IIIZ\n",
      "- 0.2257534922240249 * IIZZ\n",
      "+ 0.1721839326191554 * IZII\n",
      "- 0.22575349222402488 * ZZZI\n",
      "+ 0.1209126326177664 * IIZI\n",
      "+ 0.1689275387008791 * IZIZ\n",
      "+ 0.04523279994605785 * ZXIX\n",
      "- 0.04523279994605785 * IXZX\n",
      "- 0.04523279994605785 * ZXZX\n",
      "+ 0.04523279994605785 * IXIX\n",
      "+ 0.1661454325638242 * ZZZZ\n",
      "+ 0.16614543256382422 * IZZZ\n",
      "+ 0.1746434306830045 * ZZIZ\n",
      "+ 0.1209126326177664 * ZIZI\n"
     ]
    },
    {
     "name": "stderr",
     "output_type": "stream",
     "text": [
      "/home/renata/.local/lib/python3.8/site-packages/qiskit_nature/deprecation.py:297: PauliSumOpDeprecationWarning: PauliSumOp is deprecated as of version 0.6.0 and support for them will be removed no sooner than 3 months after the release. Instead, use SparsePauliOp. You can switch to SparsePauliOp immediately, by setting `qiskit_nature.settings.use_pauli_sum_op` to `False`.\n",
      "  return func(*args, **kwargs)\n"
     ]
    }
   ],
   "source": [
    "'''\n",
    "(C) Renata Wong 2023\n",
    "\n",
    "Qiskit code for testing fidelity of randomised classical shadow on the ground state energy of molecules.\n",
    "\n",
    "Procedure:\n",
    "1. Choose a variational ansatz with initial parameters selected at random.\n",
    "2. Generate a set of random basis change operators.\n",
    "3. Apply the random operators to change bases in the ansatz.\n",
    "4. Measure the ansatz in the Pauli Z basis and store the results as a shadow.\n",
    "5. Obtain the expectation value of the molecular Hamiltonian from the shadow.\n",
    "6. Optimize for minimum Hamiltonian expectation value. \n",
    "7. Feed the calculated angles/parameters back to the ansatz.\n",
    "8. Repeat steps 3-7 till the optimization is completed. \n",
    "9. Output the minimized expectation value of the molecular Hamiltonian and the mean-square-root-error. \n",
    "\n",
    "Note: Below we perform calculations on the molecular Hamiltonian of H_2.\n",
    "To perform calculations on other molecules, you will need to specify their geometry, charge and spin \n",
    "to replace the values in the driver. \n",
    "'''\n",
    "\n",
    "import numpy as np\n",
    "import time\n",
    "\n",
    "from qiskit.algorithms.minimum_eigensolvers import NumPyMinimumEigensolver\n",
    "from qiskit_nature.second_q.mappers import BravyiKitaevMapper, QubitConverter\n",
    "from qiskit.algorithms.optimizers import SLSQP\n",
    "\n",
    "from qiskit_aer import QasmSimulator\n",
    "from qiskit import QuantumCircuit, execute\n",
    "\n",
    "from qiskit.circuit.library import EfficientSU2\n",
    "\n",
    "from qiskit_nature.units import DistanceUnit\n",
    "from qiskit_nature.second_q.drivers import PySCFDriver\n",
    "\n",
    "from derand.data_acquisition_shadow import randomized_classical_shadow\n",
    "from derand.prediction_shadow import estimate_exp\n",
    "\n",
    "\n",
    "\n",
    "# SPECIFY THE NUMBER OF EXPERIMENTS YOU WANT TO RUN\n",
    "num_experiments = 1\n",
    "\n",
    "# SPECIFY THE EXPECTED GROUND STATE ENERGY FOR THE MOLECULE OF INTEREST\n",
    "EXPECTED_EIGENVALUE = -1.86\n",
    "\n",
    "# SPECIFY THE GEOMETRY OF THE MOLECULE IN QUESTION\n",
    "driver = PySCFDriver(\n",
    "    atom=\"H 0 0 0; H 0 0 0.735\",\n",
    "    basis=\"sto3g\",\n",
    "    charge=0,\n",
    "    spin=0,\n",
    "    unit=DistanceUnit.ANGSTROM,\n",
    ")\n",
    "\n",
    "\n",
    "problem = driver.run()\n",
    "hamiltonian = problem.hamiltonian\n",
    "\n",
    "# The electronic Hamiltonian of the system\n",
    "second_q_op = hamiltonian.second_q_op()\n",
    "\n",
    "# Solving the electronic structure problem = determine the ground state energy of the molecule\n",
    "from qiskit_nature.second_q.algorithms import GroundStateEigensolver, NumPyMinimumEigensolverFactory\n",
    "from qiskit_nature.second_q.mappers import BravyiKitaevMapper\n",
    "\n",
    "# The Bravyi-Kitaev repserentation of the Fermionic Hamiltonian\n",
    "mapper = BravyiKitaevMapper()\n",
    "bkenc_hamiltonian = mapper.map(second_q_op)\n",
    "\n",
    "print(bkenc_hamiltonian)"
   ]
  },
  {
   "cell_type": "code",
   "execution_count": 3,
   "id": "9b64bd5c",
   "metadata": {},
   "outputs": [
    {
     "name": "stdout",
     "output_type": "stream",
     "text": [
      "[[('I', 0), ('I', 1), ('I', 2), ('I', 3)], [('I', 0), ('I', 1), ('I', 2), ('Z', 3)], [('I', 0), ('I', 1), ('Z', 2), ('Z', 3)], [('I', 0), ('Z', 1), ('I', 2), ('I', 3)], [('Z', 0), ('Z', 1), ('Z', 2), ('I', 3)], [('I', 0), ('I', 1), ('Z', 2), ('I', 3)], [('I', 0), ('Z', 1), ('I', 2), ('Z', 3)], [('Z', 0), ('X', 1), ('I', 2), ('X', 3)], [('I', 0), ('X', 1), ('Z', 2), ('X', 3)], [('Z', 0), ('X', 1), ('Z', 2), ('X', 3)], [('I', 0), ('X', 1), ('I', 2), ('X', 3)], [('Z', 0), ('Z', 1), ('Z', 2), ('Z', 3)], [('I', 0), ('Z', 1), ('Z', 2), ('Z', 3)], [('Z', 0), ('Z', 1), ('I', 2), ('Z', 3)], [('Z', 0), ('I', 1), ('Z', 2), ('I', 3)]]\n",
      "[-0.8105479805373234, 0.1721839326191557, -0.2257534922240249, 0.1721839326191554, -0.22575349222402488, 0.1209126326177664, 0.1689275387008791, 0.04523279994605785, -0.04523279994605785, -0.04523279994605785, 0.04523279994605785, 0.1661454325638242, 0.16614543256382422, 0.1746434306830045, 0.1209126326177664]\n",
      "[[], [('Z', 3)], [('Z', 2), ('Z', 3)], [('Z', 1)], [('Z', 0), ('Z', 1), ('Z', 2)], [('Z', 2)], [('Z', 1), ('Z', 3)], [('Z', 0), ('X', 1), ('X', 3)], [('X', 1), ('Z', 2), ('X', 3)], [('Z', 0), ('X', 1), ('Z', 2), ('X', 3)], [('X', 1), ('X', 3)], [('Z', 0), ('Z', 1), ('Z', 2), ('Z', 3)], [('Z', 1), ('Z', 2), ('Z', 3)], [('Z', 0), ('Z', 1), ('Z', 3)], [('Z', 0), ('Z', 2)]]\n"
     ]
    }
   ],
   "source": [
    "'''\n",
    "Format Hamiltonian terms and coefficients as required by the package predicting-quantum-properties\n",
    "'''\n",
    "\n",
    "hamiltonian_terms = []\n",
    "weights = []\n",
    "\n",
    "for observable in bkenc_hamiltonian:\n",
    "    \n",
    "    observable_str = str(observable)\n",
    "    observable_str_clean = observable_str.strip()  # removes white spaces\n",
    "    pauli_str_list = observable_str_clean.split('*')\n",
    "    tuple_list = []\n",
    "    \n",
    "    for op_index, pauli_op in enumerate(pauli_str_list[1]):\n",
    "        if pauli_op == 'I' or pauli_op == 'X' or pauli_op == 'Y' or pauli_op == 'Z':\n",
    "            tuple_list.append((pauli_op, op_index-1))\n",
    "    if len(tuple_list) > 0:\n",
    "        hamiltonian_terms.append(tuple_list)\n",
    "        weights.append(float(pauli_str_list[0].strip()))\n",
    "\n",
    "system_size = len(hamiltonian_terms[0])\n",
    "\n",
    "print(hamiltonian_terms)\n",
    "print(weights)\n",
    "\n",
    "\n",
    "\n",
    "\n",
    "'''\n",
    "Reformatting the Hamiltonian for use in estimate_exp(): removing all entries with Pauli I. \n",
    "'''\n",
    "\n",
    "hamiltonian_terms_XYZ = []\n",
    "\n",
    "for term in hamiltonian_terms:\n",
    "    term_XYZ = []\n",
    "    for pauli in term:\n",
    "        if pauli[0] != 'I':\n",
    "            term_XYZ.append(pauli)\n",
    "    hamiltonian_terms_XYZ.append(term_XYZ)         \n",
    "    \n",
    "print(hamiltonian_terms_XYZ)"
   ]
  },
  {
   "cell_type": "code",
   "execution_count": 4,
   "id": "1d747421",
   "metadata": {},
   "outputs": [
    {
     "data": {
      "image/png": "[encoded data removed]",
      "text/plain": [
       "<Figure size 447.797x264.88 with 1 Axes>"
      ]
     },
     "execution_count": 4,
     "metadata": {},
     "output_type": "execute_result"
    }
   ],
   "source": [
    "'''\n",
    "Choose a variational ansatz.\n",
    "Note that for molecules other than H_2 you may need to specify a different number of reps.\n",
    "'''\n",
    "\n",
    "reps = 1   \n",
    "ansatz = EfficientSU2(4, su2_gates=['rx', 'ry'], entanglement='circular', reps=reps, skip_final_rotation_layer=True)\n",
    "\n",
    "    \n",
    "ansatz.decompose().draw('mpl')"
   ]
  },
  {
   "cell_type": "code",
   "execution_count": 5,
   "id": "6906b803",
   "metadata": {},
   "outputs": [
    {
     "name": "stdout",
     "output_type": "stream",
     "text": [
      "Randomized basis change scheme:\n",
      " [['Y', 'X', 'Y', 'Z'], ['Z', 'Z', 'Z', 'Z'], ['X', 'X', 'Y', 'Z'], ['X', 'Z', 'X', 'Y'], ['Y', 'Y', 'Z', 'X'], ['X', 'X', 'Z', 'Z'], ['Z', 'Y', 'X', 'Y'], ['X', 'Z', 'Z', 'Y'], ['X', 'Y', 'Y', 'Y'], ['Z', 'Z', 'Z', 'Y'], ['Y', 'Z', 'Z', 'Y'], ['Z', 'X', 'Y', 'X'], ['Y', 'Z', 'Y', 'X'], ['Y', 'Z', 'Z', 'Y'], ['Z', 'X', 'Z', 'Z'], ['Y', 'Y', 'X', 'Y'], ['Y', 'X', 'Y', 'Y'], ['Z', 'Z', 'Y', 'X'], ['X', 'X', 'X', 'Y'], ['Z', 'Y', 'X', 'X'], ['Y', 'Z', 'Y', 'Z'], ['X', 'Z', 'Z', 'Y'], ['X', 'Z', 'Z', 'Z'], ['Y', 'X', 'Y', 'X'], ['X', 'Y', 'Z', 'Z'], ['Y', 'X', 'Y', 'X'], ['Y', 'Z', 'Z', 'Y'], ['Y', 'Y', 'X', 'Z'], ['Z', 'Z', 'X', 'X'], ['Z', 'Z', 'X', 'Y'], ['X', 'X', 'X', 'Y'], ['Y', 'Y', 'Z', 'Z'], ['Z', 'X', 'Z', 'Z'], ['Z', 'Z', 'X', 'Y'], ['X', 'Y', 'Z', 'Z'], ['Y', 'Z', 'X', 'Z'], ['X', 'X', 'Y', 'X'], ['X', 'X', 'X', 'Z'], ['Z', 'Y', 'Z', 'X'], ['Y', 'Z', 'Z', 'Z'], ['X', 'Y', 'X', 'X'], ['X', 'Z', 'Y', 'X'], ['X', 'Y', 'X', 'Y'], ['Z', 'Y', 'Z', 'Y'], ['Y', 'Y', 'Y', 'X'], ['Z', 'X', 'Y', 'Y'], ['X', 'Z', 'Z', 'Z'], ['Y', 'X', 'Z', 'X'], ['X', 'X', 'Y', 'Y'], ['X', 'X', 'Z', 'Z'], ['X', 'X', 'Y', 'X'], ['Z', 'Y', 'Z', 'Y'], ['Y', 'X', 'X', 'X'], ['X', 'X', 'X', 'Z'], ['X', 'Z', 'X', 'Y'], ['Y', 'Y', 'Z', 'X'], ['X', 'Z', 'Y', 'X'], ['Y', 'Y', 'Y', 'X'], ['X', 'Y', 'Z', 'X'], ['Z', 'X', 'Y', 'Z'], ['X', 'X', 'X', 'Y'], ['X', 'Y', 'X', 'X'], ['X', 'Z', 'X', 'Y'], ['Y', 'Y', 'X', 'X'], ['Y', 'Z', 'Y', 'Y'], ['Y', 'X', 'X', 'X'], ['Y', 'Y', 'Z', 'Y'], ['Y', 'Z', 'X', 'Y'], ['X', 'Z', 'X', 'Z'], ['X', 'Z', 'Z', 'Z'], ['Z', 'Z', 'Y', 'Z'], ['X', 'X', 'Y', 'Z'], ['Y', 'Z', 'Y', 'Y'], ['Z', 'X', 'Z', 'X'], ['Y', 'Z', 'X', 'Y'], ['Y', 'X', 'X', 'Y'], ['X', 'Y', 'Z', 'X'], ['Y', 'Y', 'Z', 'X'], ['Z', 'X', 'Y', 'X'], ['Y', 'Z', 'Y', 'Y'], ['X', 'X', 'X', 'Z'], ['Z', 'Z', 'Z', 'X'], ['X', 'Z', 'Y', 'X'], ['Y', 'Y', 'Y', 'X'], ['Z', 'Y', 'Y', 'X'], ['Y', 'X', 'Z', 'Z'], ['Y', 'X', 'Z', 'X'], ['X', 'Z', 'Y', 'X'], ['Z', 'X', 'Y', 'Y'], ['X', 'Z', 'Z', 'X'], ['Z', 'Z', 'Z', 'X'], ['X', 'X', 'Y', 'Y'], ['Z', 'X', 'X', 'X'], ['X', 'Y', 'Y', 'X'], ['Z', 'Y', 'Z', 'Z'], ['Z', 'Z', 'Y', 'X'], ['Y', 'X', 'X', 'Z'], ['Y', 'X', 'X', 'X'], ['Z', 'Z', 'Z', 'Z'], ['X', 'Z', 'Y', 'Z'], ['X', 'Z', 'Y', 'Z'], ['Z', 'X', 'Z', 'Y'], ['X', 'X', 'Y', 'Z'], ['Z', 'Y', 'Y', 'Y'], ['X', 'Z', 'Y', 'Y'], ['X', 'Z', 'X', 'X'], ['X', 'Z', 'Y', 'Y'], ['Y', 'Y', 'X', 'X'], ['X', 'X', 'X', 'X'], ['Z', 'Z', 'Y', 'X'], ['X', 'Y', 'X', 'Y'], ['Y', 'Y', 'X', 'X'], ['X', 'Y', 'Z', 'Z'], ['X', 'Y', 'X', 'Y'], ['Z', 'X', 'Z', 'X'], ['Y', 'Z', 'Z', 'Z'], ['Z', 'X', 'X', 'Z'], ['Y', 'Z', 'Z', 'Y'], ['Z', 'Y', 'Z', 'Z'], ['X', 'Z', 'X', 'Z'], ['Z', 'Z', 'Y', 'Y'], ['X', 'Y', 'Z', 'X'], ['Y', 'Z', 'X', 'X'], ['X', 'Y', 'Z', 'Y'], ['Z', 'Z', 'Y', 'Z'], ['X', 'Z', 'Z', 'X'], ['X', 'Z', 'Y', 'X'], ['X', 'Z', 'X', 'Z'], ['Z', 'Y', 'Z', 'Z'], ['Y', 'Z', 'X', 'X'], ['Z', 'Z', 'X', 'Z'], ['Z', 'Z', 'Y', 'X'], ['X', 'Z', 'Y', 'Z'], ['X', 'Z', 'X', 'Y'], ['Y', 'Y', 'Z', 'Z'], ['X', 'Z', 'Z', 'Y'], ['Y', 'Z', 'Y', 'Y'], ['X', 'X', 'X', 'Z'], ['Y', 'Z', 'X', 'X'], ['X', 'Y', 'Y', 'Z'], ['X', 'X', 'X', 'X'], ['X', 'Y', 'X', 'Y'], ['X', 'Y', 'Y', 'X'], ['Y', 'Z', 'Z', 'X'], ['X', 'Y', 'Z', 'Y'], ['Z', 'Z', 'Z', 'X'], ['Y', 'Y', 'X', 'X'], ['Y', 'X', 'Z', 'Y'], ['X', 'Z', 'X', 'X'], ['Z', 'X', 'Z', 'X'], ['Y', 'X', 'Z', 'Y'], ['X', 'X', 'Z', 'X'], ['X', 'Y', 'Z', 'X'], ['X', 'Y', 'Z', 'Z'], ['Y', 'Y', 'Y', 'Z'], ['Y', 'Z', 'Z', 'Y'], ['Z', 'Y', 'X', 'X'], ['X', 'Z', 'Y', 'X'], ['X', 'Z', 'Y', 'Y'], ['Y', 'Y', 'X', 'X'], ['Y', 'Y', 'Z', 'Y'], ['Y', 'Z', 'Z', 'Y'], ['Z', 'Y', 'X', 'Z'], ['X', 'X', 'Z', 'Z'], ['X', 'Z', 'X', 'X'], ['Y', 'X', 'Y', 'Z'], ['Z', 'X', 'X', 'Z'], ['Z', 'Z', 'Z', 'Y'], ['X', 'Y', 'Y', 'Z'], ['Z', 'Z', 'Y', 'Y'], ['Z', 'X', 'X', 'Z'], ['Y', 'Y', 'Y', 'X'], ['Z', 'Z', 'X', 'Z'], ['Y', 'Z', 'Y', 'X'], ['X', 'X', 'X', 'X'], ['X', 'Z', 'Z', 'Y'], ['Z', 'X', 'Y', 'Y'], ['Y', 'Y', 'Y', 'Y'], ['X', 'Y', 'Z', 'Y'], ['Y', 'X', 'Z', 'Z'], ['X', 'Z', 'Y', 'Y'], ['Y', 'X', 'Y', 'Y'], ['X', 'Z', 'Y', 'Z'], ['Z', 'Y', 'Y', 'Y'], ['X', 'X', 'Y', 'Y'], ['Y', 'X', 'Z', 'Z'], ['Z', 'Y', 'Z', 'Y'], ['Y', 'X', 'X', 'Y'], ['Y', 'Y', 'X', 'Z'], ['Y', 'Z', 'Y', 'X'], ['Z', 'Y', 'Y', 'Y'], ['Y', 'Z', 'Z', 'Z'], ['Z', 'X', 'X', 'Y'], ['Z', 'Y', 'X', 'X'], ['Y', 'Y', 'Y', 'Z'], ['X', 'Z', 'Y', 'Z'], ['X', 'Z', 'Y', 'X'], ['Z', 'Z', 'X', 'X'], ['X', 'X', 'Z', 'Y'], ['X', 'Z', 'Y', 'Y'], ['X', 'X', 'X', 'Y'], ['X', 'Y', 'Y', 'Y'], ['Y', 'Y', 'Z', 'X'], ['X', 'Z', 'Y', 'X'], ['Z', 'Y', 'X', 'Z'], ['X', 'Z', 'Y', 'Z'], ['Y', 'X', 'Z', 'Y'], ['Y', 'X', 'X', 'X'], ['Y', 'Y', 'X', 'Z'], ['Y', 'Z', 'Y', 'X'], ['Y', 'X', 'Y', 'Z'], ['Z', 'Y', 'Z', 'Y'], ['Z', 'X', 'Y', 'Z'], ['X', 'Z', 'Y', 'Y'], ['Z', 'Y', 'Z', 'Y'], ['Z', 'X', 'Z', 'Z'], ['X', 'X', 'Y', 'X'], ['Z', 'X', 'Z', 'Y'], ['Z', 'Y', 'Y', 'X'], ['Z', 'X', 'Y', 'Z'], ['X', 'Y', 'Z', 'X'], ['Z', 'Z', 'Y', 'X'], ['X', 'Z', 'Z', 'X'], ['Y', 'Z', 'Y', 'Z'], ['X', 'Y', 'Y', 'X'], ['X', 'X', 'Y', 'Z'], ['Y', 'Y', 'X', 'Z'], ['Z', 'Y', 'Z', 'Z'], ['Y', 'X', 'X', 'Y'], ['Y', 'Y', 'Z', 'X'], ['X', 'Y', 'X', 'Y'], ['Y', 'Z', 'X', 'Y'], ['X', 'X', 'X', 'Y'], ['Y', 'X', 'Y', 'Z'], ['X', 'Z', 'Y', 'Z'], ['X', 'Z', 'X', 'Z'], ['Z', 'Y', 'Z', 'X'], ['Y', 'X', 'Z', 'Z'], ['X', 'Z', 'X', 'X'], ['Y', 'Y', 'Z', 'X'], ['Z', 'Y', 'X', 'X'], ['Z', 'Z', 'Z', 'X'], ['X', 'X', 'Z', 'X'], ['Y', 'X', 'Y', 'Y'], ['X', 'Z', 'X', 'X'], ['X', 'Z', 'Y', 'Z'], ['X', 'Y', 'Z', 'Y'], ['Z', 'Z', 'Y', 'X'], ['Z', 'X', 'Y', 'Y'], ['X', 'Z', 'Y', 'X'], ['X', 'Z', 'Y', 'Z'], ['X', 'Y', 'X', 'Y'], ['Z', 'Z', 'Z', 'X'], ['Y', 'Z', 'X', 'X'], ['Y', 'Y', 'Y', 'Y'], ['Z', 'Z', 'Z', 'Y'], ['Y', 'Z', 'X', 'X'], ['Y', 'Z', 'Z', 'Z'], ['Y', 'Z', 'X', 'X'], ['Y', 'X', 'Y', 'X'], ['Z', 'X', 'Y', 'X'], ['Y', 'Z', 'Y', 'Z'], ['X', 'X', 'Y', 'Y'], ['Z', 'X', 'X', 'X'], ['Z', 'X', 'Y', 'Z'], ['Y', 'X', 'X', 'X'], ['Z', 'Y', 'X', 'Z'], ['Y', 'Z', 'Y', 'Z'], ['X', 'X', 'Z', 'Y'], ['X', 'X', 'Y', 'Z'], ['Y', 'X', 'X', 'Y'], ['Z', 'Y', 'X', 'Z'], ['X', 'Y', 'X', 'X'], ['X', 'Z', 'X', 'Y'], ['X', 'Y', 'X', 'X'], ['X', 'Z', 'X', 'Z'], ['Z', 'Z', 'Z', 'Z'], ['Z', 'Y', 'X', 'Y'], ['Y', 'Y', 'X', 'Z'], ['Z', 'Y', 'Y', 'Z'], ['Y', 'Y', 'Y', 'X'], ['X', 'Y', 'X', 'Z'], ['Y', 'Y', 'Y', 'X'], ['Z', 'Y', 'X', 'Y'], ['Y', 'Z', 'Z', 'Y'], ['Z', 'Z', 'X', 'Z'], ['X', 'Y', 'Z', 'Z'], ['X', 'Y', 'X', 'X'], ['Z', 'X', 'Z', 'X'], ['Y', 'X', 'Z', 'X'], ['X', 'Z', 'Z', 'Y'], ['X', 'X', 'Y', 'Y'], ['Z', 'X', 'X', 'Z'], ['X', 'Y', 'Z', 'X'], ['Z', 'X', 'Y', 'Z'], ['X', 'Y', 'Z', 'Z'], ['Z', 'X', 'Y', 'Y'], ['Y', 'X', 'Y', 'Y'], ['Z', 'X', 'X', 'X'], ['Z', 'X', 'Z', 'Z'], ['X', 'X', 'X', 'Y'], ['X', 'X', 'Z', 'Y'], ['Y', 'Y', 'Y', 'Y'], ['Z', 'Z', 'Y', 'Z'], ['X', 'Y', 'X', 'Z'], ['Z', 'Z', 'Y', 'Z'], ['Z', 'Z', 'Y', 'Z'], ['X', 'Z', 'Z', 'X'], ['Y', 'X', 'Z', 'Z'], ['Z', 'X', 'Z', 'Y'], ['Z', 'Y', 'Z', 'X'], ['Z', 'X', 'Z', 'X'], ['X', 'Z', 'X', 'Y'], ['X', 'Z', 'X', 'Y'], ['Y', 'X', 'Z', 'Z'], ['Y', 'Z', 'Z', 'Y'], ['X', 'Y', 'Y', 'X'], ['Z', 'Z', 'Z', 'Z'], ['X', 'Y', 'Y', 'X'], ['X', 'Y', 'X', 'Z'], ['Z', 'Z', 'Y', 'Y'], ['Z', 'Y', 'X', 'Z'], ['X', 'X', 'Y', 'Z'], ['Z', 'Z', 'Y', 'Z'], ['X', 'Y', 'X', 'Z'], ['X', 'Y', 'Y', 'X'], ['X', 'Z', 'Y', 'Y'], ['Z', 'X', 'Z', 'Z'], ['Z', 'X', 'Z', 'X'], ['X', 'Y', 'Y', 'X'], ['Y', 'X', 'X', 'X'], ['Y', 'X', 'Y', 'Z'], ['Z', 'Y', 'X', 'X'], ['Z', 'X', 'X', 'Y'], ['X', 'Y', 'Z', 'X'], ['X', 'Y', 'Z', 'Y'], ['Y', 'X', 'Y', 'Y'], ['Y', 'Y', 'X', 'Z'], ['Z', 'X', 'X', 'Y'], ['X', 'Y', 'X', 'Y'], ['Y', 'Z', 'X', 'X'], ['Y', 'X', 'X', 'Z'], ['X', 'X', 'Z', 'X'], ['X', 'Y', 'Z', 'X'], ['Z', 'Z', 'X', 'Y'], ['Z', 'Z', 'X', 'Z'], ['Z', 'X', 'X', 'X'], ['Y', 'X', 'Y', 'Y'], ['X', 'Y', 'Y', 'X'], ['Y', 'Y', 'Y', 'Z'], ['Z', 'X', 'Z', 'Y'], ['Z', 'Y', 'Y', 'Z'], ['Y', 'X', 'Y', 'X'], ['Y', 'Z', 'Z', 'X'], ['X', 'Y', 'Z', 'Z'], ['Z', 'Y', 'Y', 'Z'], ['Y', 'X', 'Y', 'X'], ['Y', 'Z', 'Y', 'Z'], ['X', 'Z', 'Y', 'Z'], ['X', 'Y', 'Z', 'X'], ['Z', 'Z', 'X', 'Z'], ['X', 'Z', 'X', 'Z'], ['Z', 'Y', 'X', 'X'], ['X', 'Y', 'X', 'Z'], ['Y', 'X', 'Z', 'Y'], ['Z', 'Y', 'Z', 'Z'], ['X', 'Y', 'Y', 'Y'], ['Z', 'X', 'Z', 'X'], ['Z', 'X', 'Y', 'Z'], ['Z', 'X', 'Z', 'Y'], ['Z', 'X', 'Z', 'X'], ['X', 'X', 'Z', 'Y'], ['Y', 'Y', 'Z', 'Z'], ['Y', 'Z', 'Z', 'Z'], ['Y', 'Y', 'Z', 'X'], ['Z', 'Y', 'Y', 'Y'], ['X', 'Y', 'Y', 'X'], ['X', 'X', 'Z', 'Z'], ['Z', 'Y', 'Y', 'Z'], ['Z', 'Y', 'X', 'X'], ['Z', 'Z', 'Z', 'Y'], ['Z', 'Y', 'X', 'X'], ['X', 'Y', 'Y', 'Z'], ['Z', 'X', 'Z', 'Y'], ['Y', 'Y', 'X', 'Y'], ['X', 'Y', 'X', 'X'], ['X', 'Z', 'Y', 'Z'], ['Y', 'X', 'Z', 'X'], ['Y', 'X', 'Z', 'Y'], ['X', 'Y', 'Z', 'Z'], ['Y', 'Y', 'X', 'Y'], ['Z', 'X', 'Y', 'Y'], ['X', 'Y', 'Y', 'X'], ['Z', 'Z', 'X', 'Z'], ['X', 'Y', 'Y', 'Z'], ['Y', 'Y', 'Y', 'Z'], ['X', 'X', 'Z', 'X'], ['X', 'Z', 'Z', 'Y'], ['Y', 'Y', 'Z', 'X'], ['Y', 'Y', 'X', 'X'], ['X', 'Z', 'Z', 'Y'], ['Z', 'Y', 'X', 'Z'], ['Y', 'Y', 'Z', 'Z'], ['Z', 'X', 'Y', 'X'], ['X', 'Y', 'Y', 'Y'], ['X', 'Y', 'Z', 'Y'], ['Z', 'Z', 'Y', 'X'], ['Z', 'X', 'Z', 'X'], ['Z', 'X', 'Y', 'X'], ['Y', 'Z', 'Z', 'X'], ['Y', 'Y', 'X', 'X'], ['Z', 'Y', 'Y', 'Y'], ['Y', 'Y', 'X', 'Y'], ['Y', 'Y', 'X', 'Z'], ['Y', 'Y', 'Y', 'X'], ['Y', 'Z', 'X', 'Z'], ['Y', 'Z', 'Z', 'X'], ['Z', 'Y', 'Z', 'X'], ['Y', 'Z', 'Y', 'Y'], ['Y', 'Y', 'X', 'X'], ['Y', 'Z', 'Z', 'X'], ['Z', 'Y', 'Z', 'Z'], ['Z', 'X', 'Y', 'X'], ['X', 'Y', 'Y', 'Z'], ['X', 'Z', 'Y', 'Z'], ['X', 'X', 'Y', 'Z'], ['Z', 'X', 'Y', 'Z'], ['Y', 'Z', 'Y', 'Y'], ['X', 'Z', 'Y', 'Y'], ['Z', 'Y', 'Y', 'Y'], ['X', 'X', 'Z', 'Z'], ['Y', 'Y', 'Z', 'Y'], ['X', 'X', 'Z', 'Z'], ['X', 'X', 'X', 'Y'], ['Z', 'Z', 'Y', 'Y'], ['Z', 'X', 'X', 'Z'], ['Z', 'Y', 'Z', 'X'], ['X', 'Z', 'Y', 'X'], ['X', 'Y', 'Z', 'Z'], ['Y', 'Z', 'Y', 'X'], ['Z', 'Z', 'X', 'X'], ['Y', 'Z', 'Y', 'Z'], ['Z', 'Z', 'Z', 'Y'], ['X', 'Z', 'Z', 'Y'], ['X', 'X', 'Z', 'Y'], ['X', 'Z', 'X', 'X'], ['Y', 'Y', 'X', 'Z'], ['Z', 'X', 'Z', 'Z'], ['Z', 'Z', 'Y', 'X'], ['Z', 'X', 'X', 'Y'], ['Z', 'Z', 'X', 'X'], ['Z', 'X', 'X', 'Y'], ['X', 'Z', 'X', 'X'], ['Y', 'Y', 'X', 'X'], ['Z', 'X', 'Y', 'Y'], ['X', 'X', 'Z', 'X'], ['Y', 'Y', 'Z', 'X'], ['Z', 'Z', 'Z', 'X'], ['Z', 'Y', 'Z', 'X'], ['X', 'Z', 'Z', 'Z'], ['X', 'Y', 'Y', 'Z'], ['X', 'X', 'X', 'Z'], ['Z', 'Z', 'Y', 'Y'], ['Z', 'Z', 'Z', 'Z'], ['Y', 'X', 'Y', 'X'], ['Y', 'X', 'X', 'Y'], ['X', 'X', 'X', 'Z'], ['X', 'X', 'Z', 'Y'], ['X', 'Z', 'Y', 'X'], ['Y', 'X', 'Y', 'Y'], ['Y', 'X', 'Y', 'Z'], ['X', 'X', 'Z', 'Z'], ['Y', 'Z', 'Z', 'Y'], ['X', 'Y', 'Y', 'X'], ['Z', 'Y', 'Y', 'Y'], ['Y', 'X', 'Z', 'X'], ['Y', 'X', 'Z', 'X'], ['Y', 'Z', 'X', 'Y'], ['X', 'Y', 'X', 'Z'], ['X', 'Z', 'X', 'Y'], ['Y', 'Y', 'Z', 'Z'], ['Z', 'Z', 'Z', 'X'], ['Z', 'X', 'Y', 'X'], ['Z', 'Y', 'Z', 'Y'], ['X', 'X', 'Z', 'Z'], ['Z', 'Z', 'X', 'X'], ['Z', 'Z', 'Y', 'X'], ['Z', 'X', 'X', 'Y'], ['X', 'Y', 'Z', 'Y'], ['X', 'X', 'Y', 'Y'], ['X', 'Z', 'X', 'Z'], ['X', 'Y', 'X', 'X'], ['Z', 'Y', 'Z', 'Z'], ['Z', 'X', 'Z', 'X'], ['Y', 'X', 'Y', 'Y'], ['Z', 'Y', 'Z', 'Z'], ['X', 'Y', 'Z', 'Z'], ['Y', 'Z', 'X', 'Y'], ['Y', 'Y', 'X', 'Y'], ['Z', 'Y', 'Z', 'Z'], ['Y', 'Y', 'X', 'X'], ['Z', 'X', 'Z', 'X'], ['X', 'X', 'Z', 'Y'], ['Z', 'Y', 'Z', 'Z'], ['X', 'Z', 'X', 'Y'], ['Z', 'Y', 'Y', 'X'], ['Z', 'Z', 'Y', 'Y'], ['Y', 'Y', 'Z', 'Y'], ['Z', 'X', 'Y', 'Z'], ['X', 'X', 'Z', 'X'], ['Y', 'Z', 'Y', 'Z'], ['Z', 'Y', 'X', 'Y'], ['X', 'Y', 'Z', 'Y'], ['Z', 'X', 'Y', 'X'], ['Y', 'Z', 'Z', 'Z'], ['X', 'X', 'X', 'X'], ['X', 'Z', 'Y', 'Y'], ['Y', 'Y', 'Y', 'Y'], ['Z', 'X', 'X', 'Z'], ['X', 'X', 'X', 'Z'], ['X', 'Z', 'X', 'X'], ['Y', 'X', 'X', 'Z'], ['Z', 'Z', 'Y', 'X'], ['Z', 'Y', 'Y', 'X'], ['X', 'X', 'Z', 'X'], ['X', 'X', 'Y', 'Y'], ['X', 'Z', 'Y', 'Y'], ['Y', 'X', 'X', 'Z'], ['Y', 'X', 'Z', 'Y'], ['X', 'X', 'Z', 'Y'], ['X', 'Z', 'X', 'Y'], ['X', 'Y', 'Z', 'Z'], ['X', 'Z', 'X', 'Z'], ['X', 'Y', 'Y', 'Y'], ['X', 'Y', 'X', 'Y'], ['X', 'Y', 'X', 'Z'], ['Z', 'X', 'Y', 'Z'], ['Y', 'X', 'Z', 'X'], ['Z', 'Z', 'Y', 'Y'], ['Z', 'Y', 'Z', 'Y'], ['Z', 'Y', 'Z', 'Y'], ['Y', 'X', 'Y', 'X'], ['Y', 'Y', 'Y', 'Z'], ['X', 'Y', 'X', 'X'], ['Z', 'Y', 'Z', 'X'], ['X', 'Y', 'Y', 'X'], ['X', 'Z', 'Y', 'X'], ['Y', 'Y', 'Z', 'Z'], ['Z', 'Y', 'X', 'X'], ['Y', 'Z', 'X', 'Y'], ['Y', 'Y', 'Y', 'X'], ['Y', 'X', 'Y', 'Y'], ['Z', 'Z', 'X', 'Z'], ['Y', 'Y', 'Z', 'X'], ['Y', 'X', 'Y', 'X'], ['Z', 'X', 'Z', 'Y'], ['Y', 'X', 'X', 'X'], ['Z', 'Z', 'Z', 'Z'], ['X', 'Y', 'X', 'Z'], ['Z', 'X', 'Z', 'Z'], ['Z', 'Z', 'Z', 'X'], ['X', 'Y', 'X', 'X'], ['Z', 'X', 'Z', 'Y'], ['X', 'X', 'Z', 'X'], ['X', 'Z', 'X', 'Z'], ['X', 'X', 'Z', 'Y'], ['Z', 'Z', 'X', 'Y'], ['X', 'X', 'Y', 'Z'], ['X', 'X', 'Z', 'Z'], ['Z', 'Y', 'Y', 'Z'], ['Z', 'X', 'X', 'X'], ['Y', 'Y', 'Y', 'X'], ['Y', 'Z', 'Z', 'Z'], ['X', 'X', 'Z', 'Y'], ['X', 'Z', 'Z', 'Z'], ['Y', 'X', 'Z', 'X'], ['Y', 'Y', 'Z', 'X'], ['X', 'X', 'X', 'Y'], ['Z', 'Z', 'Y', 'Z'], ['X', 'Y', 'Z', 'Z'], ['X', 'Y', 'X', 'X'], ['Z', 'Z', 'Z', 'Z'], ['Y', 'Z', 'X', 'X'], ['X', 'Z', 'X', 'Z'], ['Z', 'Y', 'Z', 'X'], ['X', 'Y', 'Y', 'Z'], ['Z', 'X', 'Z', 'Z'], ['Y', 'Z', 'X', 'Y'], ['Y', 'Y', 'Z', 'X'], ['X', 'Z', 'X', 'Y'], ['Z', 'Z', 'Y', 'Z'], ['Y', 'Y', 'Z', 'Z'], ['Y', 'Y', 'Y', 'X'], ['Y', 'Y', 'Z', 'Y'], ['Z', 'Y', 'Y', 'X'], ['Y', 'Y', 'Z', 'Z'], ['X', 'X', 'X', 'Y'], ['Y', 'Y', 'Z', 'Z'], ['Y', 'Z', 'Y', 'X'], ['Y', 'X', 'Y', 'Z'], ['Y', 'Y', 'X', 'Z'], ['Y', 'Z', 'Y', 'Y'], ['Y', 'X', 'Y', 'Y'], ['X', 'Y', 'Z', 'X'], ['Z', 'X', 'X', 'Y'], ['X', 'X', 'X', 'Z'], ['X', 'Y', 'Z', 'Y'], ['X', 'X', 'Z', 'Y'], ['X', 'Z', 'Z', 'Y'], ['X', 'X', 'X', 'X'], ['X', 'Z', 'X', 'Y'], ['Y', 'X', 'X', 'Y'], ['Z', 'Y', 'X', 'Z'], ['Y', 'Y', 'X', 'X'], ['X', 'X', 'Z', 'Z'], ['Y', 'Z', 'Z', 'X'], ['Z', 'Z', 'X', 'Y'], ['Y', 'Y', 'Y', 'Z'], ['X', 'Z', 'Y', 'X'], ['Z', 'Y', 'X', 'X'], ['Z', 'Z', 'Y', 'Y'], ['Y', 'X', 'Y', 'X'], ['Z', 'Y', 'Y', 'Y'], ['Z', 'Y', 'Z', 'X'], ['X', 'X', 'Y', 'Z'], ['X', 'Y', 'Z', 'X'], ['X', 'Z', 'X', 'X'], ['Z', 'X', 'Y', 'Z'], ['Z', 'X', 'Z', 'Z'], ['X', 'Y', 'X', 'Y'], ['Z', 'Y', 'Y', 'Z'], ['Y', 'X', 'Z', 'Y'], ['Z', 'Y', 'Z', 'X'], ['Y', 'Z', 'Z', 'Y'], ['Z', 'X', 'X', 'Y'], ['Y', 'Z', 'X', 'Y'], ['Y', 'Y', 'Y', 'Z'], ['Y', 'Y', 'X', 'Y'], ['X', 'Z', 'Z', 'X'], ['Y', 'X', 'Z', 'Z'], ['Y', 'X', 'Z', 'Z'], ['X', 'Y', 'Z', 'X'], ['Z', 'Z', 'Z', 'X'], ['X', 'Z', 'X', 'X'], ['Z', 'X', 'Z', 'X'], ['Y', 'X', 'X', 'Y'], ['Z', 'Y', 'X', 'Z'], ['X', 'Y', 'X', 'X'], ['Z', 'X', 'Y', 'Z'], ['X', 'X', 'Y', 'X'], ['X', 'Z', 'Y', 'Y'], ['X', 'X', 'Y', 'Y'], ['Z', 'Y', 'X', 'Y'], ['X', 'X', 'Y', 'X'], ['Y', 'Z', 'Y', 'Y'], ['X', 'Z', 'Y', 'Y'], ['X', 'Z', 'Z', 'X'], ['Y', 'Z', 'Y', 'X'], ['Z', 'X', 'Z', 'X'], ['Y', 'X', 'X', 'Z'], ['X', 'Y', 'X', 'Y'], ['X', 'Y', 'Y', 'Y'], ['X', 'X', 'Z', 'Z'], ['Y', 'X', 'Z', 'X'], ['X', 'Z', 'Y', 'Y'], ['Y', 'X', 'Z', 'Y'], ['Z', 'Y', 'Z', 'X'], ['Z', 'X', 'X', 'Z'], ['Y', 'Z', 'X', 'X'], ['X', 'Z', 'Y', 'X'], ['Z', 'X', 'Z', 'X'], ['Y', 'X', 'X', 'Y'], ['X', 'Z', 'Y', 'X'], ['X', 'Z', 'X', 'X'], ['Y', 'Z', 'Y', 'Z'], ['Y', 'X', 'X', 'X'], ['Y', 'Y', 'X', 'Z'], ['Y', 'Z', 'Y', 'X'], ['Z', 'Z', 'X', 'X'], ['Z', 'Y', 'Z', 'X'], ['X', 'X', 'X', 'X'], ['Y', 'Y', 'Y', 'X'], ['Y', 'X', 'X', 'Y'], ['X', 'Z', 'X', 'Z'], ['Z', 'Z', 'Z', 'X'], ['X', 'X', 'Y', 'X'], ['Y', 'X', 'Y', 'Y'], ['Z', 'Z', 'Y', 'Z'], ['Z', 'X', 'Z', 'Z'], ['X', 'Z', 'X', 'Y'], ['Z', 'Y', 'Y', 'Y'], ['Z', 'Y', 'X', 'X'], ['X', 'Z', 'Y', 'Z'], ['X', 'Y', 'Z', 'X'], ['Z', 'Z', 'Z', 'Y'], ['X', 'Y', 'X', 'X'], ['Y', 'Z', 'Z', 'X'], ['Z', 'Y', 'Y', 'Z'], ['Z', 'X', 'Y', 'X'], ['Y', 'X', 'X', 'Z'], ['X', 'Y', 'X', 'Y'], ['Y', 'Z', 'Y', 'Z'], ['Z', 'X', 'X', 'Y'], ['Z', 'X', 'Y', 'X'], ['Z', 'Z', 'X', 'Y'], ['Z', 'Z', 'X', 'Y'], ['Y', 'X', 'Z', 'Z'], ['X', 'X', 'Z', 'X'], ['X', 'X', 'X', 'Z'], ['Y', 'Y', 'Y', 'Z'], ['Z', 'Z', 'Y', 'X'], ['X', 'Y', 'Z', 'X'], ['Y', 'X', 'Y', 'Y'], ['Y', 'Z', 'Z', 'X'], ['X', 'X', 'X', 'Z'], ['Z', 'X', 'Z', 'Y'], ['Z', 'Y', 'X', 'Y'], ['X', 'Y', 'Y', 'X'], ['Y', 'Z', 'Z', 'Y'], ['Z', 'Z', 'X', 'Z'], ['X', 'Y', 'Y', 'X'], ['X', 'Z', 'Y', 'Y'], ['Z', 'X', 'Y', 'X'], ['Y', 'Z', 'X', 'X'], ['X', 'X', 'X', 'X'], ['Y', 'Y', 'Z', 'Y'], ['X', 'X', 'Y', 'Y'], ['Y', 'Y', 'X', 'Y'], ['Y', 'Y', 'Y', 'X'], ['Y', 'X', 'Y', 'X'], ['Z', 'X', 'Y', 'Y'], ['X', 'Z', 'Y', 'Z'], ['X', 'Y', 'X', 'Z'], ['Z', 'Y', 'Z', 'X'], ['Z', 'X', 'X', 'X'], ['Y', 'X', 'X', 'X'], ['Y', 'Y', 'Y', 'Y'], ['Z', 'Z', 'Z', 'Z'], ['X', 'Y', 'Z', 'Z'], ['Z', 'Y', 'X', 'Y'], ['Z', 'X', 'Y', 'Y'], ['Y', 'Z', 'X', 'Z'], ['X', 'Y', 'Z', 'Y'], ['Y', 'Z', 'X', 'Y'], ['X', 'X', 'X', 'Y'], ['Z', 'Z', 'Z', 'Y'], ['X', 'Y', 'X', 'Z'], ['Z', 'X', 'X', 'Z'], ['Z', 'Y', 'X', 'Z'], ['X', 'Y', 'X', 'Y'], ['X', 'Y', 'X', 'Y'], ['Y', 'Y', 'Z', 'Z'], ['Y', 'Y', 'Z', 'Z'], ['Z', 'Z', 'Z', 'Z'], ['X', 'Y', 'X', 'X'], ['X', 'X', 'Y', 'X'], ['Z', 'Y', 'Z', 'Z'], ['X', 'Y', 'X', 'Z'], ['Z', 'Y', 'X', 'Y'], ['Z', 'Z', 'X', 'Z'], ['Y', 'X', 'X', 'X'], ['Z', 'X', 'Y', 'Z'], ['Z', 'X', 'Z', 'Z'], ['Y', 'Y', 'Z', 'Y'], ['Z', 'Y', 'Z', 'Y'], ['Y', 'Y', 'Y', 'Z'], ['X', 'Y', 'Z', 'X'], ['X', 'Y', 'Z', 'Z'], ['Y', 'Z', 'X', 'Z'], ['X', 'X', 'Y', 'X'], ['Z', 'Z', 'Z', 'X'], ['Y', 'Y', 'X', 'Z'], ['X', 'Y', 'Z', 'X'], ['Y', 'Z', 'Z', 'X'], ['Z', 'Y', 'X', 'Y'], ['Z', 'Z', 'Z', 'Y'], ['X', 'X', 'Z', 'Y'], ['Z', 'X', 'Z', 'X'], ['Y', 'Y', 'Z', 'Z'], ['Y', 'Y', 'Z', 'X'], ['Z', 'Y', 'Z', 'Y'], ['Z', 'Y', 'X', 'Y'], ['Y', 'X', 'X', 'Y'], ['X', 'X', 'Y', 'Z'], ['Z', 'X', 'Y', 'Z'], ['Z', 'Y', 'Y', 'Z'], ['X', 'Y', 'X', 'Z'], ['X', 'X', 'Y', 'Z'], ['Z', 'X', 'Z', 'Y'], ['Z', 'Z', 'X', 'Z'], ['Y', 'Y', 'Y', 'Z'], ['Z', 'Z', 'X', 'X'], ['Y', 'Z', 'Y', 'X'], ['X', 'Y', 'Y', 'Y'], ['Y', 'Z', 'X', 'Y'], ['Z', 'X', 'Y', 'Y'], ['Y', 'X', 'X', 'Z'], ['Y', 'Y', 'X', 'Z'], ['Y', 'Y', 'Y', 'Z'], ['Y', 'Z', 'Y', 'Y'], ['Y', 'X', 'Z', 'Y'], ['X', 'Y', 'Y', 'Y'], ['X', 'Z', 'Z', 'Z'], ['X', 'Y', 'Z', 'Z'], ['Y', 'X', 'Y', 'Z'], ['Y', 'Y', 'X', 'Z'], ['Z', 'Y', 'Y', 'Y'], ['Y', 'Y', 'Y', 'Y'], ['Y', 'Y', 'Y', 'X'], ['Y', 'X', 'Z', 'Y'], ['X', 'Y', 'Z', 'Z'], ['Z', 'X', 'Z', 'Y'], ['Z', 'Y', 'X', 'Z'], ['X', 'X', 'Y', 'Y'], ['X', 'X', 'Z', 'X'], ['X', 'Y', 'X', 'Z'], ['Y', 'Y', 'Y', 'Y'], ['X', 'X', 'Y', 'X'], ['X', 'Y', 'Y', 'Z'], ['Y', 'X', 'Y', 'X'], ['X', 'Y', 'Z', 'Y'], ['Z', 'Y', 'Y', 'Y'], ['Y', 'Y', 'Z', 'Z'], ['X', 'Y', 'Y', 'Z'], ['Y', 'Z', 'Z', 'Y'], ['Z', 'X', 'Y', 'Z'], ['Z', 'Y', 'Z', 'Y'], ['Y', 'X', 'Z', 'X'], ['Y', 'X', 'Y', 'X'], ['Z', 'X', 'Z', 'X'], ['Z', 'Y', 'Z', 'Z'], ['Y', 'Y', 'X', 'Z'], ['Y', 'Y', 'X', 'Z'], ['X', 'X', 'X', 'X'], ['Y', 'Y', 'Y', 'Y'], ['X', 'Z', 'Z', 'X'], ['Y', 'Y', 'Z', 'Z'], ['Z', 'Y', 'Y', 'Y'], ['Y', 'X', 'X', 'X'], ['X', 'Z', 'Y', 'X'], ['Y', 'Y', 'Z', 'X'], ['Z', 'Z', 'X', 'X'], ['X', 'X', 'X', 'Y'], ['Z', 'Z', 'Z', 'X'], ['Z', 'Z', 'Y', 'Z'], ['Y', 'Z', 'Y', 'X'], ['Z', 'X', 'X', 'Z'], ['X', 'Y', 'X', 'Z'], ['X', 'Z', 'X', 'Y'], ['X', 'Y', 'X', 'Y'], ['Z', 'X', 'X', 'Z'], ['X', 'Z', 'Y', 'Z'], ['Y', 'Y', 'X', 'Z'], ['Z', 'Y', 'Y', 'Y'], ['X', 'Z', 'Z', 'X'], ['Y', 'Z', 'Y', 'Y'], ['X', 'Z', 'Z', 'Y'], ['Y', 'Y', 'Y', 'X'], ['Y', 'Y', 'X', 'Z'], ['X', 'Z', 'Y', 'Y'], ['Y', 'Y', 'X', 'X'], ['X', 'X', 'Z', 'Z'], ['Y', 'Z', 'Z', 'X'], ['X', 'X', 'X', 'X'], ['X', 'Y', 'Y', 'Z'], ['Y', 'X', 'Z', 'X'], ['Y', 'Z', 'Z', 'Z'], ['Z', 'Y', 'X', 'Z'], ['Z', 'Y', 'Y', 'Y'], ['X', 'X', 'Z', 'Y'], ['X', 'X', 'Y', 'Y'], ['X', 'Z', 'Y', 'Z'], ['X', 'Y', 'X', 'X'], ['Y', 'Z', 'Z', 'Y'], ['Z', 'X', 'Y', 'X'], ['X', 'Z', 'Y', 'X'], ['Y', 'Y', 'Y', 'Y'], ['Y', 'Z', 'Z', 'Y'], ['Z', 'X', 'Y', 'Z'], ['Y', 'X', 'Z', 'X'], ['X', 'Z', 'X', 'Z'], ['Z', 'Y', 'Z', 'X'], ['Z', 'X', 'X', 'Z'], ['Z', 'Y', 'Y', 'Z'], ['Z', 'Y', 'Y', 'Y'], ['Y', 'Z', 'Y', 'Y'], ['Y', 'Y', 'X', 'Y'], ['Y', 'Y', 'X', 'Y'], ['X', 'Z', 'Z', 'Z'], ['X', 'Y', 'Z', 'Y'], ['Z', 'X', 'Z', 'X'], ['X', 'X', 'Z', 'Z'], ['Y', 'Z', 'X', 'X'], ['Z', 'Y', 'Z', 'Z'], ['X', 'X', 'Y', 'X'], ['X', 'Y', 'Y', 'X'], ['X', 'Z', 'Z', 'Z'], ['Z', 'Y', 'Y', 'X'], ['X', 'Y', 'Z', 'Z'], ['Z', 'X', 'Y', 'X'], ['Z', 'X', 'Z', 'Z'], ['X', 'Y', 'Y', 'X'], ['Y', 'X', 'X', 'Z'], ['Z', 'Y', 'Y', 'X'], ['Y', 'Z', 'X', 'Z'], ['Z', 'X', 'Z', 'X'], ['X', 'Y', 'Y', 'Z'], ['Z', 'Z', 'X', 'Z'], ['X', 'Y', 'Z', 'Z'], ['Z', 'Z', 'Z', 'Y'], ['Y', 'Z', 'Z', 'Y'], ['Y', 'Y', 'Z', 'Z'], ['Z', 'X', 'X', 'Y'], ['Z', 'Y', 'Z', 'Z'], ['X', 'Z', 'Y', 'Z'], ['Y', 'Z', 'Y', 'Z'], ['Z', 'Y', 'Z', 'Y'], ['Z', 'Z', 'X', 'X'], ['X', 'Z', 'X', 'X'], ['Y', 'X', 'Z', 'Z'], ['X', 'Z', 'Y', 'Y'], ['Y', 'Z', 'X', 'Z'], ['Z', 'Z', 'Y', 'Z'], ['Y', 'Z', 'Y', 'Y'], ['Z', 'Y', 'X', 'Z'], ['Z', 'X', 'Z', 'Y'], ['Z', 'Z', 'Y', 'Y'], ['Z', 'Y', 'Y', 'Y'], ['Y', 'X', 'Y', 'X'], ['Y', 'X', 'Z', 'X'], ['X', 'X', 'Z', 'Y'], ['X', 'Z', 'Y', 'X'], ['Y', 'X', 'Y', 'Y'], ['X', 'Z', 'Z', 'Z'], ['X', 'X', 'Z', 'X'], ['Y', 'Z', 'X', 'X'], ['Y', 'Z', 'Z', 'X'], ['Y', 'X', 'Z', 'X'], ['Z', 'Z', 'Z', 'Z'], ['Y', 'Z', 'X', 'Z'], ['X', 'X', 'Z', 'Y'], ['Y', 'Z', 'Z', 'X'], ['Z', 'X', 'Y', 'Y'], ['Z', 'X', 'Z', 'Z'], ['Z', 'Z', 'Y', 'Z'], ['Z', 'X', 'Z', 'X'], ['Y', 'X', 'Y', 'Z'], ['X', 'Y', 'Z', 'X'], ['Y', 'X', 'Y', 'Z'], ['X', 'X', 'X', 'Y'], ['Z', 'X', 'X', 'Z'], ['Y', 'Z', 'Y', 'Y'], ['Y', 'X', 'X', 'Y'], ['Y', 'Z', 'Y', 'X'], ['X', 'Z', 'X', 'Z'], ['Y', 'Z', 'Y', 'Y'], ['Y', 'Z', 'X', 'X'], ['X', 'X', 'Y', 'Z'], ['Y', 'X', 'Y', 'Z'], ['Z', 'Y', 'X', 'Y'], ['X', 'Y', 'X', 'Z'], ['Y', 'Z', 'Z', 'Y'], ['X', 'X', 'Y', 'Y'], ['Y', 'Y', 'X', 'X'], ['Y', 'Y', 'Y', 'Z'], ['Y', 'Y', 'Y', 'Z'], ['Z', 'X', 'X', 'Y'], ['X', 'X', 'Z', 'X'], ['X', 'Z', 'Z', 'Y'], ['Y', 'X', 'Z', 'X'], ['Z', 'X', 'Z', 'X'], ['Y', 'Z', 'Z', 'Z'], ['X', 'Z', 'X', 'X'], ['Z', 'X', 'Y', 'Y'], ['X', 'Y', 'Y', 'Z'], ['X', 'Y', 'Z', 'Z'], ['Z', 'Z', 'Y', 'Z'], ['Y', 'Y', 'Z', 'X'], ['Y', 'Y', 'Z', 'Y'], ['X', 'Z', 'Z', 'Y'], ['Z', 'Y', 'Z', 'Y'], ['Z', 'Y', 'Y', 'Z'], ['Z', 'X', 'Z', 'Y'], ['Z', 'X', 'X', 'X'], ['Y', 'Y', 'X', 'Y'], ['X', 'X', 'Y', 'Y'], ['Y', 'Y', 'Z', 'X'], ['X', 'Z', 'X', 'Z'], ['X', 'X', 'X', 'X'], ['X', 'Y', 'Z', 'Y'], ['Z', 'Y', 'X', 'X'], ['Y', 'Y', 'Y', 'X'], ['X', 'X', 'Y', 'Z'], ['X', 'X', 'Z', 'X'], ['Y', 'X', 'X', 'Z'], ['X', 'Z', 'X', 'Y'], ['Y', 'X', 'Y', 'X'], ['Y', 'Y', 'X', 'X'], ['X', 'Z', 'X', 'X'], ['Z', 'Z', 'X', 'Z']]\n"
     ]
    }
   ],
   "source": [
    "'''\n",
    "Generate a random basis change scheme for the ansatz. \n",
    "Number of measurements set to 1000, as required by the experiment in https://arxiv.org/abs/2103.07510.\n",
    "Only generate the random measurements once and use them in all VQE iterations.\n",
    "'''\n",
    "\n",
    "num_measurements = 1000  \n",
    "\n",
    "basis_change_scheme = randomized_classical_shadow(num_measurements, system_size)\n",
    "print('Randomized basis change scheme:\\n', basis_change_scheme)"
   ]
  },
  {
   "cell_type": "code",
   "execution_count": 6,
   "id": "c69ce62c",
   "metadata": {},
   "outputs": [],
   "source": [
    "'''\n",
    "Define the cost function\n",
    "'''\n",
    "\n",
    "backend = QasmSimulator(method='statevector', shots=1)\n",
    "\n",
    "# Create circuit with just the randomised basis change operators\n",
    "def rand_meas_circuit(pauli_op):\n",
    "    rand_meas = QuantumCircuit(ansatz.num_qubits)\n",
    "    for idx, op in enumerate(pauli_op):\n",
    "        if op == 'X':\n",
    "            rand_meas.x(idx)\n",
    "        elif op == 'Y':\n",
    "            rand_meas.y(idx)\n",
    "        elif op == 'Z':\n",
    "            rand_meas.z(idx)\n",
    "    return rand_meas\n",
    "\n",
    "\n",
    "def objective_function(params):\n",
    "    \"\"\"Compares the output distribution of our circuit with\n",
    "    parameters `params` to the target distribution.\"\"\"\n",
    "    \n",
    "    # Assign parameters to the ansatz and simulate it\n",
    "    # Generate circuits to measure random Paulis, one circuit for each Pauli\n",
    "    \n",
    "    shadow = []\n",
    "    for pauli_op in basis_change_scheme:\n",
    "        \n",
    "        qc = ansatz.bind_parameters(params)\n",
    "        qc.compose(rand_meas_circuit(pauli_op))\n",
    "        qc.measure_all()\n",
    "        result = execute(qc, backend, shots=1).result()\n",
    "        counts = result.get_counts()\n",
    "        \n",
    "        \n",
    "        # We perform one single shot => index(1)\n",
    "        # store the shadow in the form [[(Z,1),(Z,-1)...], [(Y,-1),(X,-1),...]] where inner list = snapshot\n",
    "        # Because measurement output in Qiskit gives us states and not eigenvalues, we need to convert 0->1 and 1->-1\n",
    "        \n",
    "        output_str = list(list(counts.keys())[list(counts.values()).index(1)])\n",
    "        output = [int(i) for i in output_str]\n",
    "        eigenvals = [x+1 if x == 0 else x-2 for x in output]\n",
    "        snapshot = [(op, eigenval) for op, eigenval in zip(pauli_op, eigenvals)]\n",
    "        shadow.append(snapshot)\n",
    "      \n",
    "    \n",
    "    # Now, we want to get the expectation values for the Hamiltonian from the shadow using the function\n",
    "    # estimate_exp(full_measurement, one_observable)\n",
    "    # where full_measurement = shadow and one_observable is any term in the Hamiltonian with I occurrences removed\n",
    "    # cost = the total expectation value of the Hamiltonian in the present run\n",
    "    \n",
    "    cost = 0.0\n",
    "    for term, weight in zip(hamiltonian_terms_XYZ, weights):\n",
    "        sum_product, match_count = estimate_exp(shadow, term)\n",
    "        if match_count != 0:\n",
    "            exp_val = weight * (sum_product / match_count)\n",
    "            cost = cost + exp_val\n",
    "            \n",
    "    return cost\n"
   ]
  },
  {
   "cell_type": "code",
   "execution_count": 7,
   "id": "ea2eb6b9",
   "metadata": {},
   "outputs": [
    {
     "name": "stdout",
     "output_type": "stream",
     "text": [
      "GROUND STATE ENERGY FOUND =  -0.44211888783113645\n",
      "Execution time =  01:57:19\n"
     ]
    }
   ],
   "source": [
    "'''\n",
    "Classical optimisation step\n",
    "'''\n",
    "\n",
    "# Counter for the execution time\n",
    "start_time = time.time()\n",
    "\n",
    "# Classical optimizer\n",
    "optimizer = SLSQP(maxiter=500)   \n",
    "\n",
    "# Collect the expectation value from each experiment\n",
    "expectation_values = []\n",
    "\n",
    "for _ in range(num_experiments):\n",
    "    \n",
    "    params = np.random.rand(ansatz.num_parameters)\n",
    "    result = optimizer.minimize(fun=objective_function, x0=params)\n",
    "    expectation_values.append(result.fun)\n",
    "    print(\"GROUND STATE ENERGY FOUND = \", result.fun)\n",
    "\n",
    "elapsed_time = time.time() - start_time\n",
    "print(\"Execution time = \", time.strftime(\"%H:%M:%S\", time.gmtime(elapsed_time)))"
   ]
  },
  {
   "cell_type": "code",
   "execution_count": 8,
   "id": "d47b7978",
   "metadata": {},
   "outputs": [
    {
     "name": "stdout",
     "output_type": "stream",
     "text": [
      "The average root-mean-squared error for regular classical shadow: 1.4178811121688637\n"
     ]
    }
   ],
   "source": [
    "'''\n",
    "Calculate the error.\n",
    "'''\n",
    "\n",
    "rmse_randomised_cs = np.sqrt(np.sum([(EXPECTED_EIGENVALUE - expectation_values[i])**2 for i in range(num_experiments)]))\n",
    "print(f\"The average root-mean-squared error for regular classical shadow: {rmse_randomised_cs}\")\n"
   ]
  },
  {
   "cell_type": "code",
   "execution_count": 9,
   "id": "141e56b1",
   "metadata": {},
   "outputs": [
    {
     "name": "stdout",
     "output_type": "stream",
     "text": [
      "Electronic ground state energy:\n",
      " === GROUND STATE ENERGY ===\n",
      " \n",
      "* Electronic ground state energy (Hartree): -1.857275030202\n",
      "  - computed part:      -1.857275030202\n",
      "~ Nuclear repulsion energy (Hartree): 0.719968994449\n",
      "> Total ground state energy (Hartree): -1.137306035753\n",
      " \n",
      "=== MEASURED OBSERVABLES ===\n",
      " \n",
      "  0:  # Particles: 2.000 S: 0.000 S^2: 0.000 M: 0.000\n",
      " \n",
      "=== DIPOLE MOMENTS ===\n",
      " \n",
      "~ Nuclear dipole moment (a.u.): [0.0  0.0  1.3889487]\n",
      " \n",
      "  0: \n",
      "  * Electronic dipole moment (a.u.): [0.0  0.0  1.388948701555]\n",
      "    - computed part:      [0.0  0.0  1.388948701555]\n",
      "  > Dipole moment (a.u.): [0.0  0.0  -0.000000001555]  Total: 0.000000001555\n",
      "                 (debye): [0.0  0.0  -0.000000003953]  Total: 0.000000003953\n",
      " \n"
     ]
    },
    {
     "name": "stderr",
     "output_type": "stream",
     "text": [
      "/tmp/ipykernel_123/13243601.py:6: DeprecationWarning: The QubitConverter class is deprecated as of version 0.6.0 and will be removed no sooner than 3 months after the release . Instead you should directly use the QubitMapper instance which you used to pass into the QubitConverter as the first argument. Refer to the documentation of the qiskit_nature.second_q.mappers module for more information.\n",
      "  converter = QubitConverter(BravyiKitaevMapper())\n"
     ]
    }
   ],
   "source": [
    "'''\n",
    "Above we have assumed a particular ground state energyfor the molecule of interest.\n",
    "Below we corroborate this assumption using a classical minimum eigensolver on our Hamiltonian.\n",
    "'''\n",
    "\n",
    "converter = QubitConverter(BravyiKitaevMapper())\n",
    "\n",
    "numpy_solver = NumPyMinimumEigensolver()   \n",
    "\n",
    "calc = GroundStateEigensolver(converter, numpy_solver)\n",
    "res = calc.solve(problem)\n",
    "print('Electronic ground state energy:\\n', res) "
   ]
  },
  {
   "cell_type": "code",
   "execution_count": 10,
   "id": "1967554b",
   "metadata": {},
   "outputs": [
    {
     "data": {
      "text/plain": [
       "'\\nReconstructing the experimental results in https://arxiv.org/abs/2103.07510\\n\\n   GROUND STATE ENERGIES and ERRORS for 10 experiments at 1000 measurements (runtime: ca. 2h15m per experiment):\\n1. -0.9937592690442375       0.8662407309557626\\n2. -0.7843307493091094       1.0756692506908907\\n3. -0.8064150045094017       1.0535849954905983\\n4. -0.9080709120492695       0.9519290879507306\\n5. -1.1852387172541334       0.6747612827458667\\n6. -0.9724661353560656       0.8875338646439345\\n7. \\n8. \\n9. \\n10.\\n\\nAverage error over 10 experiments: \\n'"
      ]
     },
     "execution_count": 10,
     "metadata": {},
     "output_type": "execute_result"
    }
   ],
   "source": [
    "'''\n",
    "Reconstructing the experimental results in https://arxiv.org/abs/2103.07510\n",
    "\n",
    "   GROUND STATE ENERGIES and ERRORS for 10 experiments at 1000 measurements (runtime: ca. 2h15m per experiment):\n",
    "1. -0.9937592690442375       0.8662407309557626\n",
    "2. -0.7843307493091094       1.0756692506908907\n",
    "3. -0.8064150045094017       1.0535849954905983\n",
    "4. -0.9080709120492695       0.9519290879507306\n",
    "5. -1.1852387172541334       0.6747612827458667\n",
    "6. -0.9724661353560656       0.8875338646439345\n",
    "7.-0.44211888783113645       1.4178811121688637\n",
    "8. \n",
    "9. \n",
    "10.\n",
    "\n",
    "Average error over 10 experiments: \n",
    "'''"
   ]
  }
 ],
 "metadata": {
  "kernelspec": {
   "display_name": "Python 3 (ipykernel)",
   "language": "python",
   "name": "python3"
  },
  "language_info": {
   "codemirror_mode": {
    "name": "ipython",
    "version": 3
   },
   "file_extension": ".py",
   "mimetype": "text/x-python",
   "name": "python",
   "nbconvert_exporter": "python",
   "pygments_lexer": "ipython3",
   "version": "3.8.10"
  }
 },
 "nbformat": 4,
 "nbformat_minor": 5
}
